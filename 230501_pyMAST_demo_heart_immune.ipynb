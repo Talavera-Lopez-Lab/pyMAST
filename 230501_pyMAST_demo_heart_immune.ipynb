{
 "cells": [
  {
   "attachments": {},
   "cell_type": "markdown",
   "metadata": {},
   "source": [
    "### Notebook for the implementation of a DEG model for multicondition experiments\n",
    "\n",
    "- **Developed by**: Carlos Talavera-López Ph.D\n",
    "- **Institute of Computational Biology - Computational Health Centre - Helmholtz Munich**\n",
    "- v230501"
   ]
  },
  {
   "attachments": {},
   "cell_type": "markdown",
   "metadata": {},
   "source": [
    "### Load required modules"
   ]
  },
  {
   "cell_type": "code",
   "execution_count": null,
   "metadata": {},
   "outputs": [],
   "source": [
    "import jax\n",
    "import anndata\n",
    "import numpyro\n",
    "import numpy as np\n",
    "import scanpy as sc\n",
    "from jax import random\n",
    "import jax.numpy as jnp\n",
    "from numpyro import handlers\n",
    "import numpyro.optim as optim\n",
    "import numpyro.distributions as dist\n",
    "from numpyro.infer import SVI, Trace_ELBO, autoguide\n",
    "from numpyro.infer.initialization import init_to_median"
   ]
  },
  {
   "attachments": {},
   "cell_type": "markdown",
   "metadata": {},
   "source": [
    "### Set up working environment "
   ]
  },
  {
   "cell_type": "code",
   "execution_count": null,
   "metadata": {},
   "outputs": [],
   "source": [
    "sc.settings.verbosity = 3\n",
    "sc.logging.print_versions()\n",
    "sc.settings.set_figure_params(dpi = 180, color_map = 'magma_r', dpi_save = 300, vector_friendly = True, format = 'svg')"
   ]
  },
  {
   "attachments": {},
   "cell_type": "markdown",
   "metadata": {},
   "source": [
    "### Read in dataset"
   ]
  },
  {
   "cell_type": "code",
   "execution_count": null,
   "metadata": {},
   "outputs": [],
   "source": [
    "adata = sc.read_h5ad('./data/hca_heart_immune_download.h5ad')\n",
    "adata"
   ]
  },
  {
   "cell_type": "code",
   "execution_count": null,
   "metadata": {},
   "outputs": [],
   "source": [
    "assert 'cell_states' in adata.obs.columns, \"adata.obs['cell_states'] is missing\"\n",
    "assert 'donor' in adata.obs.columns, \"adata.obs['donor'] is missing\"\n",
    "assert 'cell_source' in adata.obs.columns, \"adata.obs['cell_source'] is missing\""
   ]
  },
  {
   "cell_type": "code",
   "execution_count": null,
   "metadata": {},
   "outputs": [],
   "source": [
    "sc.pp.normalize_total(adata, target_sum = 1e6, exclude_highly_expressed = True)\n",
    "sc.pp.log1p(adata)"
   ]
  },
  {
   "attachments": {},
   "cell_type": "markdown",
   "metadata": {},
   "source": [
    "### Calculate HVGs"
   ]
  },
  {
   "cell_type": "code",
   "execution_count": null,
   "metadata": {},
   "outputs": [],
   "source": [
    "adata_raw = adata.copy()\n",
    "adata.layers['counts'] = adata.X.copy()\n",
    "\n",
    "sc.pp.highly_variable_genes(\n",
    "    adata,\n",
    "    flavor = \"seurat_v3\",\n",
    "    n_top_genes = 1500,\n",
    "    layer = \"counts\",\n",
    "    batch_key = \"donor\",\n",
    "    subset = True\n",
    ")\n",
    "\n",
    "adata"
   ]
  },
  {
   "attachments": {},
   "cell_type": "markdown",
   "metadata": {},
   "source": [
    "### Prepare data for a `numPyro` model"
   ]
  },
  {
   "attachments": {},
   "cell_type": "markdown",
   "metadata": {},
   "source": [
    "- Encoding categorical variables as integers"
   ]
  },
  {
   "cell_type": "code",
   "execution_count": null,
   "metadata": {},
   "outputs": [],
   "source": [
    "adata.obs['cell_states_encoded'] = adata.obs['cell_states'].astype('category').cat.codes\n",
    "adata.obs['donor_encoded'] = adata.obs['donor'].astype('category').cat.codes\n",
    "adata.obs['cell_source_encoded'] = adata.obs['cell_source'].astype('category').cat.codes\n",
    "\n",
    "n_genes = adata.shape[1]\n",
    "n_donors = len(adata.obs['donor'].cat.categories)\n",
    "n_protocols = len(adata.obs['cell_source'].cat.categories)\n",
    "n_cell_states = len(adata.obs['cell_states'].cat.categories)"
   ]
  },
  {
   "attachments": {},
   "cell_type": "markdown",
   "metadata": {},
   "source": [
    "- Linear regression model accounting for donor and protocol effects"
   ]
  },
  {
   "cell_type": "code",
   "execution_count": null,
   "metadata": {},
   "outputs": [],
   "source": [
    "def linear_regression_model(X, cell_states, donor, protocol, y = None):\n",
    "    sigma = numpyro.sample(\"sigma\", dist.Exponential(1.))\n",
    "    beta0 = numpyro.sample(\"beta0\", dist.Normal(0., 1.))\n",
    "    beta_genes = numpyro.sample(\"beta_genes\", dist.Normal(0., 1.), sample_shape = (n_genes,))\n",
    "    \n",
    "    with numpyro.plate(\"plate_donors\", n_donors):\n",
    "        beta_donors = numpyro.sample(\"beta_donors\", dist.Normal(0., 1.))\n",
    "    \n",
    "    with numpyro.plate(\"plate_protocols\", n_protocols):\n",
    "        beta_protocols = numpyro.sample(\"beta_protocols\", dist.Normal(0., 1.))\n",
    "    \n",
    "    mean_expression = beta0 + jnp.matmul(X, beta_genes) + beta_donors[donor] + beta_protocols[protocol]\n",
    "    numpyro.sample(\"obs\", dist.Normal(mean_expression, sigma), obs=y)"
   ]
  },
  {
   "attachments": {},
   "cell_type": "markdown",
   "metadata": {},
   "source": [
    "\n",
    "- Prepare data for inference"
   ]
  },
  {
   "cell_type": "code",
   "execution_count": null,
   "metadata": {},
   "outputs": [],
   "source": [
    "X = adata.X\n",
    "cell_states = adata.obs['cell_states_encoded'].values\n",
    "donor = adata.obs['donor_encoded'].values\n",
    "protocol = adata.obs['cell_source_encoded'].values"
   ]
  },
  {
   "attachments": {},
   "cell_type": "markdown",
   "metadata": {},
   "source": [
    "- Create the guide and SVI objects"
   ]
  },
  {
   "cell_type": "code",
   "execution_count": null,
   "metadata": {},
   "outputs": [],
   "source": [
    "guide = autoguide.AutoNormal(linear_regression_model, init_loc_fn = init_to_median)\n",
    "svi = SVI(model=linear_regression_model, guide=guide, optim=Adam(0.01), loss=Trace_ELBO())"
   ]
  },
  {
   "attachments": {},
   "cell_type": "markdown",
   "metadata": {},
   "source": [
    "\n",
    "- Train the model"
   ]
  },
  {
   "cell_type": "code",
   "execution_count": null,
   "metadata": {},
   "outputs": [],
   "source": [
    "num_epochs = 1000\n",
    "for epoch in range(num_epochs):\n",
    "    loss = svi.update(X, cell_states, donor, protocol)\n",
    "    if epoch % 100 == 0:\n",
    "        print(f\"Epoch {epoch}, loss: {loss:.2f}\")"
   ]
  },
  {
   "attachments": {},
   "cell_type": "markdown",
   "metadata": {},
   "source": [
    "- Compile the model"
   ]
  },
  {
   "cell_type": "code",
   "execution_count": null,
   "metadata": {},
   "outputs": [],
   "source": [
    "optimizer = tf.keras.optimizers.Adam(learning_rate = 0.01)\n",
    "linear_regression_model.compile(optimizer = optimizer, loss = 'mean_squared_error')\n"
   ]
  },
  {
   "attachments": {},
   "cell_type": "markdown",
   "metadata": {},
   "source": [
    "### Train the model and find differentially expressed genes"
   ]
  },
  {
   "attachments": {},
   "cell_type": "markdown",
   "metadata": {},
   "source": [
    "- Train the model for each gene and store the learned weights for cell types"
   ]
  },
  {
   "cell_type": "code",
   "execution_count": null,
   "metadata": {},
   "outputs": [],
   "source": [
    "def create_linear_regression_model(num_features):\n",
    "    model = tf.keras.Sequential()\n",
    "    model.add(tf.keras.layers.InputLayer(input_shape=(num_features,)))\n",
    "    model.add(tf.keras.layers.Dense(1, activation=None))\n",
    "\n",
    "    model.compile(optimizer='adam', loss='mean_squared_error')\n",
    "    return model"
   ]
  },
  {
   "cell_type": "code",
   "execution_count": null,
   "metadata": {},
   "outputs": [],
   "source": [
    "cell_type_weights = []\n",
    "num_genes = gene_expression_matrix.shape[0]\n",
    "num_cell_types = cell_types.shape[1]\n",
    "num_pcs = 50\n",
    "\n",
    "for gene_index in range(num_genes):\n",
    "    gene_expression = gene_expression_matrix[gene_index].toarray().reshape(-1, 1)\n",
    "    \n",
    "    linear_regression_model = create_linear_regression_model(feature_matrix.shape[1])\n",
    "    \n",
    "    linear_regression_model.fit(feature_matrix, gene_expression, epochs=10, verbose=0)\n",
    "    learned_weights = linear_regression_model.get_weights()[0]\n",
    "    cell_type_weights.append(learned_weights[:num_cell_types])\n",
    "\n",
    "cell_type_weights = np.array(cell_type_weights)"
   ]
  },
  {
   "cell_type": "code",
   "execution_count": null,
   "metadata": {},
   "outputs": [],
   "source": [
    "# Find differentially expressed genes for each cell type\n",
    "differentially_expressed_genes = {}\n",
    "for cell_type_index in range(num_cell_types):\n",
    "    cell_type_name = cell_types.columns[cell_type_index]\n",
    "    cell_type_specific_weights = cell_type_weights[:, cell_type_index]\n",
    "    top_gene_indices = np.argsort(-np.abs(cell_type_specific_weights))[:10]  # Adjust the number of top genes if needed\n",
    "    top_gene_names = adata.var_names[top_gene_indices]\n",
    "    differentially_expressed_genes[cell_type_name] = top_gene_names\n",
    "\n",
    "# Print the differentially expressed genes for each cell type\n",
    "for cell_type, genes in differentially_expressed_genes.items():\n",
    "    print(f\"{cell_type}: {', '.join(genes)}\")\n"
   ]
  }
 ],
 "metadata": {
  "kernelspec": {
   "display_name": "pyMAST",
   "language": "python",
   "name": "python3"
  },
  "language_info": {
   "codemirror_mode": {
    "name": "ipython",
    "version": 3
   },
   "file_extension": ".py",
   "mimetype": "text/x-python",
   "name": "python",
   "nbconvert_exporter": "python",
   "pygments_lexer": "ipython3",
   "version": "3.9.16"
  },
  "orig_nbformat": 4
 },
 "nbformat": 4,
 "nbformat_minor": 2
}
